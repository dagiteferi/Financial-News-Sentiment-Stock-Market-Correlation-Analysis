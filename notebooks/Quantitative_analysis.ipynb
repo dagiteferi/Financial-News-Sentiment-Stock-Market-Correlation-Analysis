{
 "cells": [
  {
   "cell_type": "code",
   "execution_count": 1,
   "metadata": {},
   "outputs": [
    {
     "name": "stdout",
     "output_type": "stream",
     "text": [
      "Requirement already satisfied: pandas_ta in c:\\users\\dagi\\documents\\kaim\\week 1\\financial-news-sentiment-stock-market-correlation-analysis\\week1\\lib\\site-packages (0.3.14b0)Note: you may need to restart the kernel to use updated packages.\n",
      "\n",
      "Requirement already satisfied: pandas in c:\\users\\dagi\\documents\\kaim\\week 1\\financial-news-sentiment-stock-market-correlation-analysis\\week1\\lib\\site-packages (from pandas_ta) (2.2.3)\n",
      "Requirement already satisfied: numpy>=1.26.0 in c:\\users\\dagi\\documents\\kaim\\week 1\\financial-news-sentiment-stock-market-correlation-analysis\\week1\\lib\\site-packages (from pandas->pandas_ta) (2.2.0)\n",
      "Requirement already satisfied: python-dateutil>=2.8.2 in c:\\users\\dagi\\documents\\kaim\\week 1\\financial-news-sentiment-stock-market-correlation-analysis\\week1\\lib\\site-packages (from pandas->pandas_ta) (2.9.0.post0)\n",
      "Requirement already satisfied: pytz>=2020.1 in c:\\users\\dagi\\documents\\kaim\\week 1\\financial-news-sentiment-stock-market-correlation-analysis\\week1\\lib\\site-packages (from pandas->pandas_ta) (2024.2)\n",
      "Requirement already satisfied: tzdata>=2022.7 in c:\\users\\dagi\\documents\\kaim\\week 1\\financial-news-sentiment-stock-market-correlation-analysis\\week1\\lib\\site-packages (from pandas->pandas_ta) (2024.2)\n",
      "Requirement already satisfied: six>=1.5 in c:\\users\\dagi\\documents\\kaim\\week 1\\financial-news-sentiment-stock-market-correlation-analysis\\week1\\lib\\site-packages (from python-dateutil>=2.8.2->pandas->pandas_ta) (1.17.0)\n"
     ]
    },
    {
     "name": "stderr",
     "output_type": "stream",
     "text": [
      "\n",
      "[notice] A new release of pip is available: 24.2 -> 24.3.1\n",
      "[notice] To update, run: python.exe -m pip install --upgrade pip\n"
     ]
    }
   ],
   "source": [
    "%pip install pandas_ta"
   ]
  },
  {
   "cell_type": "code",
   "execution_count": 1,
   "metadata": {},
   "outputs": [],
   "source": [
    "import numpy as np\n",
    "import pandas as pd\n",
    "import matplotlib.pyplot as plt\n",
    "import seaborn as sns\n",
    "import pandas_ta as ta\n",
    "\n",
    "%matplotlib inline\n"
   ]
  },
  {
   "cell_type": "code",
   "execution_count": 13,
   "metadata": {},
   "outputs": [],
   "source": [
    "apple = r'C:\\Users\\Dagi\\Documents\\KAIM\\Week 1\\Financial-News-Sentiment-Stock-Market-Correlation-Analysis\\data\\yfinance_data\\AAPL_historical_data.csv'\n",
    "amazon = r'C:\\Users\\Dagi\\Documents\\KAIM\\Week 1\\Financial-News-Sentiment-Stock-Market-Correlation-Analysis\\data\\yfinance_data\\AMZN_historical_data.csv'\n",
    "google = r'C:\\Users\\Dagi\\Documents\\KAIM\\Week 1\\Financial-News-Sentiment-Stock-Market-Correlation-Analysis\\data\\yfinance_data\\GOOG_historical_data.csv'\n",
    "meta = r'C:\\Users\\Dagi\\Documents\\KAIM\\Week 1\\Financial-News-Sentiment-Stock-Market-Correlation-Analysis\\data\\yfinance_data\\META_historical_data.csv'\n",
    "microsoft = r'C:\\Users\\Dagi\\Documents\\KAIM\\Week 1\\Financial-News-Sentiment-Stock-Market-Correlation-Analysis\\data\\yfinance_data\\MSFT_historical_data.csv'\n",
    "nividia = r'C:\\Users\\Dagi\\Documents\\KAIM\\Week 1\\Financial-News-Sentiment-Stock-Market-Correlation-Analysis\\data\\yfinance_data\\NVDA_historical_data.csv'\n",
    "tesla = r'C:\\Users\\Dagi\\Documents\\KAIM\\Week 1\\Financial-News-Sentiment-Stock-Market-Correlation-Analysis\\data\\yfinance_data\\TSLA_historical_data.csv'\n"
   ]
  },
  {
   "cell_type": "code",
   "execution_count": 14,
   "metadata": {},
   "outputs": [],
   "source": [
    "apple = pd.read_csv(apple)\n",
    "amazon = pd.read_csv(amazon)\n",
    "google = pd.read_csv(google)\n",
    "meta = pd.read_csv(meta)\n",
    "microsoft = pd.read_csv(microsoft)\n",
    "nividia = pd.read_csv(nividia)\n",
    "tesla = pd.read_csv(tesla)"
   ]
  },
  {
   "cell_type": "code",
   "execution_count": 17,
   "metadata": {},
   "outputs": [
    {
     "data": {
      "text/plain": [
       "((6846, 9), (5020, 9), (2926, 9), (9672, 9), (6421, 9), (3545, 9))"
      ]
     },
     "execution_count": 17,
     "metadata": {},
     "output_type": "execute_result"
    }
   ],
   "source": [
    "amazon.shape, google.shape, meta.shape, microsoft.shape, nividia.shape, tesla.shape"
   ]
  },
  {
   "cell_type": "code",
   "execution_count": 18,
   "metadata": {},
   "outputs": [
    {
     "data": {
      "text/html": [
       "<div>\n",
       "<style scoped>\n",
       "    .dataframe tbody tr th:only-of-type {\n",
       "        vertical-align: middle;\n",
       "    }\n",
       "\n",
       "    .dataframe tbody tr th {\n",
       "        vertical-align: top;\n",
       "    }\n",
       "\n",
       "    .dataframe thead th {\n",
       "        text-align: right;\n",
       "    }\n",
       "</style>\n",
       "<table border=\"1\" class=\"dataframe\">\n",
       "  <thead>\n",
       "    <tr style=\"text-align: right;\">\n",
       "      <th></th>\n",
       "      <th>Date</th>\n",
       "      <th>Open</th>\n",
       "      <th>High</th>\n",
       "      <th>Low</th>\n",
       "      <th>Close</th>\n",
       "      <th>Adj Close</th>\n",
       "      <th>Volume</th>\n",
       "      <th>Dividends</th>\n",
       "      <th>Stock Splits</th>\n",
       "    </tr>\n",
       "  </thead>\n",
       "  <tbody>\n",
       "    <tr>\n",
       "      <th>0</th>\n",
       "      <td>1997-05-15</td>\n",
       "      <td>0.121875</td>\n",
       "      <td>0.125000</td>\n",
       "      <td>0.096354</td>\n",
       "      <td>0.097917</td>\n",
       "      <td>0.097917</td>\n",
       "      <td>1443120000</td>\n",
       "      <td>0.0</td>\n",
       "      <td>0.0</td>\n",
       "    </tr>\n",
       "    <tr>\n",
       "      <th>1</th>\n",
       "      <td>1997-05-16</td>\n",
       "      <td>0.098438</td>\n",
       "      <td>0.098958</td>\n",
       "      <td>0.085417</td>\n",
       "      <td>0.086458</td>\n",
       "      <td>0.086458</td>\n",
       "      <td>294000000</td>\n",
       "      <td>0.0</td>\n",
       "      <td>0.0</td>\n",
       "    </tr>\n",
       "    <tr>\n",
       "      <th>2</th>\n",
       "      <td>1997-05-19</td>\n",
       "      <td>0.088021</td>\n",
       "      <td>0.088542</td>\n",
       "      <td>0.081250</td>\n",
       "      <td>0.085417</td>\n",
       "      <td>0.085417</td>\n",
       "      <td>122136000</td>\n",
       "      <td>0.0</td>\n",
       "      <td>0.0</td>\n",
       "    </tr>\n",
       "    <tr>\n",
       "      <th>3</th>\n",
       "      <td>1997-05-20</td>\n",
       "      <td>0.086458</td>\n",
       "      <td>0.087500</td>\n",
       "      <td>0.081771</td>\n",
       "      <td>0.081771</td>\n",
       "      <td>0.081771</td>\n",
       "      <td>109344000</td>\n",
       "      <td>0.0</td>\n",
       "      <td>0.0</td>\n",
       "    </tr>\n",
       "    <tr>\n",
       "      <th>4</th>\n",
       "      <td>1997-05-21</td>\n",
       "      <td>0.081771</td>\n",
       "      <td>0.082292</td>\n",
       "      <td>0.068750</td>\n",
       "      <td>0.071354</td>\n",
       "      <td>0.071354</td>\n",
       "      <td>377064000</td>\n",
       "      <td>0.0</td>\n",
       "      <td>0.0</td>\n",
       "    </tr>\n",
       "  </tbody>\n",
       "</table>\n",
       "</div>"
      ],
      "text/plain": [
       "         Date      Open      High       Low     Close  Adj Close      Volume  \\\n",
       "0  1997-05-15  0.121875  0.125000  0.096354  0.097917   0.097917  1443120000   \n",
       "1  1997-05-16  0.098438  0.098958  0.085417  0.086458   0.086458   294000000   \n",
       "2  1997-05-19  0.088021  0.088542  0.081250  0.085417   0.085417   122136000   \n",
       "3  1997-05-20  0.086458  0.087500  0.081771  0.081771   0.081771   109344000   \n",
       "4  1997-05-21  0.081771  0.082292  0.068750  0.071354   0.071354   377064000   \n",
       "\n",
       "   Dividends  Stock Splits  \n",
       "0        0.0           0.0  \n",
       "1        0.0           0.0  \n",
       "2        0.0           0.0  \n",
       "3        0.0           0.0  \n",
       "4        0.0           0.0  "
      ]
     },
     "execution_count": 18,
     "metadata": {},
     "output_type": "execute_result"
    }
   ],
   "source": [
    "data = amazon\n",
    "data.head()"
   ]
  },
  {
   "cell_type": "code",
   "execution_count": 19,
   "metadata": {},
   "outputs": [
    {
     "data": {
      "text/html": [
       "<div>\n",
       "<style scoped>\n",
       "    .dataframe tbody tr th:only-of-type {\n",
       "        vertical-align: middle;\n",
       "    }\n",
       "\n",
       "    .dataframe tbody tr th {\n",
       "        vertical-align: top;\n",
       "    }\n",
       "\n",
       "    .dataframe thead th {\n",
       "        text-align: right;\n",
       "    }\n",
       "</style>\n",
       "<table border=\"1\" class=\"dataframe\">\n",
       "  <thead>\n",
       "    <tr style=\"text-align: right;\">\n",
       "      <th></th>\n",
       "      <th>Open</th>\n",
       "      <th>High</th>\n",
       "      <th>Low</th>\n",
       "      <th>Close</th>\n",
       "      <th>Adj Close</th>\n",
       "      <th>Volume</th>\n",
       "      <th>Dividends</th>\n",
       "      <th>Stock Splits</th>\n",
       "    </tr>\n",
       "  </thead>\n",
       "  <tbody>\n",
       "    <tr>\n",
       "      <th>count</th>\n",
       "      <td>6846.000000</td>\n",
       "      <td>6846.000000</td>\n",
       "      <td>6846.000000</td>\n",
       "      <td>6846.000000</td>\n",
       "      <td>6846.000000</td>\n",
       "      <td>6.846000e+03</td>\n",
       "      <td>6846.0</td>\n",
       "      <td>6846.000000</td>\n",
       "    </tr>\n",
       "    <tr>\n",
       "      <th>mean</th>\n",
       "      <td>37.360464</td>\n",
       "      <td>37.801009</td>\n",
       "      <td>36.882561</td>\n",
       "      <td>37.351096</td>\n",
       "      <td>37.351096</td>\n",
       "      <td>1.380713e+08</td>\n",
       "      <td>0.0</td>\n",
       "      <td>0.003944</td>\n",
       "    </tr>\n",
       "    <tr>\n",
       "      <th>std</th>\n",
       "      <td>53.756955</td>\n",
       "      <td>54.366449</td>\n",
       "      <td>53.087051</td>\n",
       "      <td>53.729913</td>\n",
       "      <td>53.729913</td>\n",
       "      <td>1.382346e+08</td>\n",
       "      <td>0.0</td>\n",
       "      <td>0.246789</td>\n",
       "    </tr>\n",
       "    <tr>\n",
       "      <th>min</th>\n",
       "      <td>0.070313</td>\n",
       "      <td>0.072396</td>\n",
       "      <td>0.065625</td>\n",
       "      <td>0.069792</td>\n",
       "      <td>0.069792</td>\n",
       "      <td>9.744000e+06</td>\n",
       "      <td>0.0</td>\n",
       "      <td>0.000000</td>\n",
       "    </tr>\n",
       "    <tr>\n",
       "      <th>25%</th>\n",
       "      <td>2.070125</td>\n",
       "      <td>2.120625</td>\n",
       "      <td>2.040156</td>\n",
       "      <td>2.076750</td>\n",
       "      <td>2.076750</td>\n",
       "      <td>6.505442e+07</td>\n",
       "      <td>0.0</td>\n",
       "      <td>0.000000</td>\n",
       "    </tr>\n",
       "    <tr>\n",
       "      <th>50%</th>\n",
       "      <td>8.574500</td>\n",
       "      <td>8.666750</td>\n",
       "      <td>8.466500</td>\n",
       "      <td>8.591500</td>\n",
       "      <td>8.591500</td>\n",
       "      <td>1.020650e+08</td>\n",
       "      <td>0.0</td>\n",
       "      <td>0.000000</td>\n",
       "    </tr>\n",
       "    <tr>\n",
       "      <th>75%</th>\n",
       "      <td>50.453876</td>\n",
       "      <td>50.723249</td>\n",
       "      <td>50.059875</td>\n",
       "      <td>50.426500</td>\n",
       "      <td>50.426500</td>\n",
       "      <td>1.567560e+08</td>\n",
       "      <td>0.0</td>\n",
       "      <td>0.000000</td>\n",
       "    </tr>\n",
       "    <tr>\n",
       "      <th>max</th>\n",
       "      <td>200.089996</td>\n",
       "      <td>201.199997</td>\n",
       "      <td>199.050003</td>\n",
       "      <td>200.000000</td>\n",
       "      <td>200.000000</td>\n",
       "      <td>2.086584e+09</td>\n",
       "      <td>0.0</td>\n",
       "      <td>20.000000</td>\n",
       "    </tr>\n",
       "  </tbody>\n",
       "</table>\n",
       "</div>"
      ],
      "text/plain": [
       "              Open         High          Low        Close    Adj Close  \\\n",
       "count  6846.000000  6846.000000  6846.000000  6846.000000  6846.000000   \n",
       "mean     37.360464    37.801009    36.882561    37.351096    37.351096   \n",
       "std      53.756955    54.366449    53.087051    53.729913    53.729913   \n",
       "min       0.070313     0.072396     0.065625     0.069792     0.069792   \n",
       "25%       2.070125     2.120625     2.040156     2.076750     2.076750   \n",
       "50%       8.574500     8.666750     8.466500     8.591500     8.591500   \n",
       "75%      50.453876    50.723249    50.059875    50.426500    50.426500   \n",
       "max     200.089996   201.199997   199.050003   200.000000   200.000000   \n",
       "\n",
       "             Volume  Dividends  Stock Splits  \n",
       "count  6.846000e+03     6846.0   6846.000000  \n",
       "mean   1.380713e+08        0.0      0.003944  \n",
       "std    1.382346e+08        0.0      0.246789  \n",
       "min    9.744000e+06        0.0      0.000000  \n",
       "25%    6.505442e+07        0.0      0.000000  \n",
       "50%    1.020650e+08        0.0      0.000000  \n",
       "75%    1.567560e+08        0.0      0.000000  \n",
       "max    2.086584e+09        0.0     20.000000  "
      ]
     },
     "execution_count": 19,
     "metadata": {},
     "output_type": "execute_result"
    }
   ],
   "source": [
    "data.describe()"
   ]
  },
  {
   "cell_type": "code",
   "execution_count": 20,
   "metadata": {},
   "outputs": [
    {
     "name": "stdout",
     "output_type": "stream",
     "text": [
      "<class 'pandas.core.frame.DataFrame'>\n",
      "RangeIndex: 6846 entries, 0 to 6845\n",
      "Data columns (total 9 columns):\n",
      " #   Column        Non-Null Count  Dtype  \n",
      "---  ------        --------------  -----  \n",
      " 0   Date          6846 non-null   object \n",
      " 1   Open          6846 non-null   float64\n",
      " 2   High          6846 non-null   float64\n",
      " 3   Low           6846 non-null   float64\n",
      " 4   Close         6846 non-null   float64\n",
      " 5   Adj Close     6846 non-null   float64\n",
      " 6   Volume        6846 non-null   int64  \n",
      " 7   Dividends     6846 non-null   float64\n",
      " 8   Stock Splits  6846 non-null   float64\n",
      "dtypes: float64(7), int64(1), object(1)\n",
      "memory usage: 481.5+ KB\n"
     ]
    }
   ],
   "source": [
    "data.info()"
   ]
  },
  {
   "cell_type": "code",
   "execution_count": 21,
   "metadata": {},
   "outputs": [
    {
     "data": {
      "text/plain": [
       "Date            0\n",
       "Open            0\n",
       "High            0\n",
       "Low             0\n",
       "Close           0\n",
       "Adj Close       0\n",
       "Volume          0\n",
       "Dividends       0\n",
       "Stock Splits    0\n",
       "dtype: int64"
      ]
     },
     "execution_count": 21,
     "metadata": {},
     "output_type": "execute_result"
    }
   ],
   "source": [
    "data.isnull().sum()"
   ]
  },
  {
   "cell_type": "code",
   "execution_count": 22,
   "metadata": {},
   "outputs": [
    {
     "data": {
      "text/plain": [
       "0"
      ]
     },
     "execution_count": 22,
     "metadata": {},
     "output_type": "execute_result"
    }
   ],
   "source": [
    "data.duplicated().sum()"
   ]
  },
  {
   "cell_type": "code",
   "execution_count": 23,
   "metadata": {},
   "outputs": [
    {
     "data": {
      "text/plain": [
       "Date             object\n",
       "Open            float64\n",
       "High            float64\n",
       "Low             float64\n",
       "Close           float64\n",
       "Adj Close       float64\n",
       "Volume            int64\n",
       "Dividends       float64\n",
       "Stock Splits    float64\n",
       "dtype: object"
      ]
     },
     "execution_count": 23,
     "metadata": {},
     "output_type": "execute_result"
    }
   ],
   "source": [
    "data.dtypes"
   ]
  },
  {
   "cell_type": "code",
   "execution_count": 24,
   "metadata": {},
   "outputs": [],
   "source": [
    "# Convert date column to datetime if necessary\n",
    "data['Date'] = pd.to_datetime(data['Date'])\n",
    "data.set_index('Date', inplace=True)"
   ]
  },
  {
   "cell_type": "code",
   "execution_count": 25,
   "metadata": {},
   "outputs": [
    {
     "data": {
      "text/html": [
       "<div>\n",
       "<style scoped>\n",
       "    .dataframe tbody tr th:only-of-type {\n",
       "        vertical-align: middle;\n",
       "    }\n",
       "\n",
       "    .dataframe tbody tr th {\n",
       "        vertical-align: top;\n",
       "    }\n",
       "\n",
       "    .dataframe thead th {\n",
       "        text-align: right;\n",
       "    }\n",
       "</style>\n",
       "<table border=\"1\" class=\"dataframe\">\n",
       "  <thead>\n",
       "    <tr style=\"text-align: right;\">\n",
       "      <th></th>\n",
       "      <th>Open</th>\n",
       "      <th>High</th>\n",
       "      <th>Low</th>\n",
       "      <th>Close</th>\n",
       "      <th>Adj Close</th>\n",
       "      <th>Volume</th>\n",
       "      <th>Dividends</th>\n",
       "      <th>Stock Splits</th>\n",
       "    </tr>\n",
       "  </thead>\n",
       "  <tbody>\n",
       "    <tr>\n",
       "      <th>Open</th>\n",
       "      <td>1.000000</td>\n",
       "      <td>0.999921</td>\n",
       "      <td>0.999904</td>\n",
       "      <td>0.999805</td>\n",
       "      <td>0.999805</td>\n",
       "      <td>-0.297579</td>\n",
       "      <td>NaN</td>\n",
       "      <td>0.016639</td>\n",
       "    </tr>\n",
       "    <tr>\n",
       "      <th>High</th>\n",
       "      <td>0.999921</td>\n",
       "      <td>1.000000</td>\n",
       "      <td>0.999885</td>\n",
       "      <td>0.999908</td>\n",
       "      <td>0.999908</td>\n",
       "      <td>-0.296579</td>\n",
       "      <td>NaN</td>\n",
       "      <td>0.017159</td>\n",
       "    </tr>\n",
       "    <tr>\n",
       "      <th>Low</th>\n",
       "      <td>0.999904</td>\n",
       "      <td>0.999885</td>\n",
       "      <td>1.000000</td>\n",
       "      <td>0.999914</td>\n",
       "      <td>0.999914</td>\n",
       "      <td>-0.298666</td>\n",
       "      <td>NaN</td>\n",
       "      <td>0.016668</td>\n",
       "    </tr>\n",
       "    <tr>\n",
       "      <th>Close</th>\n",
       "      <td>0.999805</td>\n",
       "      <td>0.999908</td>\n",
       "      <td>0.999914</td>\n",
       "      <td>1.000000</td>\n",
       "      <td>1.000000</td>\n",
       "      <td>-0.297628</td>\n",
       "      <td>NaN</td>\n",
       "      <td>0.016564</td>\n",
       "    </tr>\n",
       "    <tr>\n",
       "      <th>Adj Close</th>\n",
       "      <td>0.999805</td>\n",
       "      <td>0.999908</td>\n",
       "      <td>0.999914</td>\n",
       "      <td>1.000000</td>\n",
       "      <td>1.000000</td>\n",
       "      <td>-0.297628</td>\n",
       "      <td>NaN</td>\n",
       "      <td>0.016564</td>\n",
       "    </tr>\n",
       "    <tr>\n",
       "      <th>Volume</th>\n",
       "      <td>-0.297579</td>\n",
       "      <td>-0.296579</td>\n",
       "      <td>-0.298666</td>\n",
       "      <td>-0.297628</td>\n",
       "      <td>-0.297628</td>\n",
       "      <td>1.000000</td>\n",
       "      <td>NaN</td>\n",
       "      <td>0.016065</td>\n",
       "    </tr>\n",
       "    <tr>\n",
       "      <th>Dividends</th>\n",
       "      <td>NaN</td>\n",
       "      <td>NaN</td>\n",
       "      <td>NaN</td>\n",
       "      <td>NaN</td>\n",
       "      <td>NaN</td>\n",
       "      <td>NaN</td>\n",
       "      <td>NaN</td>\n",
       "      <td>NaN</td>\n",
       "    </tr>\n",
       "    <tr>\n",
       "      <th>Stock Splits</th>\n",
       "      <td>0.016639</td>\n",
       "      <td>0.017159</td>\n",
       "      <td>0.016668</td>\n",
       "      <td>0.016564</td>\n",
       "      <td>0.016564</td>\n",
       "      <td>0.016065</td>\n",
       "      <td>NaN</td>\n",
       "      <td>1.000000</td>\n",
       "    </tr>\n",
       "  </tbody>\n",
       "</table>\n",
       "</div>"
      ],
      "text/plain": [
       "                  Open      High       Low     Close  Adj Close    Volume  \\\n",
       "Open          1.000000  0.999921  0.999904  0.999805   0.999805 -0.297579   \n",
       "High          0.999921  1.000000  0.999885  0.999908   0.999908 -0.296579   \n",
       "Low           0.999904  0.999885  1.000000  0.999914   0.999914 -0.298666   \n",
       "Close         0.999805  0.999908  0.999914  1.000000   1.000000 -0.297628   \n",
       "Adj Close     0.999805  0.999908  0.999914  1.000000   1.000000 -0.297628   \n",
       "Volume       -0.297579 -0.296579 -0.298666 -0.297628  -0.297628  1.000000   \n",
       "Dividends          NaN       NaN       NaN       NaN        NaN       NaN   \n",
       "Stock Splits  0.016639  0.017159  0.016668  0.016564   0.016564  0.016065   \n",
       "\n",
       "              Dividends  Stock Splits  \n",
       "Open                NaN      0.016639  \n",
       "High                NaN      0.017159  \n",
       "Low                 NaN      0.016668  \n",
       "Close               NaN      0.016564  \n",
       "Adj Close           NaN      0.016564  \n",
       "Volume              NaN      0.016065  \n",
       "Dividends           NaN           NaN  \n",
       "Stock Splits        NaN      1.000000  "
      ]
     },
     "execution_count": 25,
     "metadata": {},
     "output_type": "execute_result"
    }
   ],
   "source": [
    "data.corr()"
   ]
  },
  {
   "cell_type": "code",
   "execution_count": null,
   "metadata": {},
   "outputs": [],
   "source": []
  }
 ],
 "metadata": {
  "kernelspec": {
   "display_name": "week1",
   "language": "python",
   "name": "python3"
  },
  "language_info": {
   "codemirror_mode": {
    "name": "ipython",
    "version": 3
   },
   "file_extension": ".py",
   "mimetype": "text/x-python",
   "name": "python",
   "nbconvert_exporter": "python",
   "pygments_lexer": "ipython3",
   "version": "3.12.5"
  }
 },
 "nbformat": 4,
 "nbformat_minor": 2
}
